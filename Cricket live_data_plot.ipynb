{
 "cells": [
  {
   "cell_type": "code",
   "execution_count": null,
   "metadata": {},
   "outputs": [],
   "source": [
    "import requests\n",
    "from bs4 import BeautifulSoup"
   ]
  },
  {
   "cell_type": "code",
   "execution_count": null,
   "metadata": {},
   "outputs": [],
   "source": [
    "r = requests.get('https://www.cricbuzz.com/live-cricket-scores/22345/ire-vs-afg-2nd-odi-afghanistan-tour-of-ireland-2019')\n",
    "s = r.text\n",
    "soup = BeautifulSoup(s, 'html.parser')\n",
    "soup.find_all('a',class_='cb-text-link')\n",
    "player_run=soup.find_all('div',class_='cb-col-10')"
   ]
  },
  {
   "cell_type": "code",
   "execution_count": null,
   "metadata": {},
   "outputs": [],
   "source": [
    "#test for match status by cuurently playing players\n",
    "tst=str(player_data)[0] "
   ]
  },
  {
   "cell_type": "code",
   "execution_count": null,
   "metadata": {},
   "outputs": [],
   "source": [
    "if tst == \"[\":\n",
    "  status=soup.find_all('div',class_='cb-text-mom')\n",
    "  ms=str(status[0])\n",
    "  ms=ms.split('>')[1].split('<')[0]\n",
    "  print(\"Match Ended : \"+ms)\n",
    "  \n",
    "else:\n",
    "  # ball for player who is currentlly at strick\n",
    "  p1b=str(player_run[2])\n",
    "  p1b=p1b.split('>')[1].split('<')[0]\n",
    "  p_ball=[int(p1b)]\n",
    "  # ball for partner player\n",
    "  p2b=str(player_run[4])\n",
    "  p2b=p2b.split('>')[1].split('<')[0]\n",
    "  p_ball.append(int(p2b))"
   ]
  },
  {
   "cell_type": "code",
   "execution_count": null,
   "metadata": {},
   "outputs": [],
   "source": [
    "  # name for player who is currentlly at strick\n",
    "  p1=str(player_data[0])\n",
    "  p1=p1.split('>')[1].split('<')[0] \n",
    "  p_name=[p1+\"(\"+str(p_ball[0])+\" Balls)\"]\n",
    "  # name for partner player\n",
    "  p2=str(player_data[1])\n",
    "  p2=p2.split('>')[1].split('<')[0]\n",
    "  p_name.append(p2+\"(\"+str(p_ball[1])+\" Balls)\")"
   ]
  },
  {
   "cell_type": "code",
   "execution_count": null,
   "metadata": {},
   "outputs": [],
   "source": [
    "  # run for player who is currentlly at strik\n",
    "  p1r=str(player_run[2])\n",
    "  p1r=p1r.split('>')[1].split('<')[0]\n",
    "  p_run=[int(p1r)]\n",
    "  # run for partner player\n",
    "  p2r=str(player_run[4])\n",
    "  p2r=p2r.split('>')[1].split('<')[0]\n",
    "  p_run.append(int(p2r))"
   ]
  },
  {
   "cell_type": "code",
   "execution_count": null,
   "metadata": {},
   "outputs": [],
   "source": [
    "  # plotting data into bars format\n",
    "  width = 0.4\n",
    "  mp.ylabel(\"runs\")\n",
    "  mp.xlabel(\"Players Name\")\n",
    "  mp.bar(p_name,p_run,width)"
   ]
  },
  {
   "cell_type": "code",
   "execution_count": null,
   "metadata": {},
   "outputs": [],
   "source": []
  },
  {
   "cell_type": "code",
   "execution_count": null,
   "metadata": {},
   "outputs": [],
   "source": []
  },
  {
   "cell_type": "code",
   "execution_count": null,
   "metadata": {},
   "outputs": [],
   "source": []
  }
 ],
 "metadata": {
  "kernelspec": {
   "display_name": "Python 3",
   "language": "python",
   "name": "python3"
  },
  "language_info": {
   "codemirror_mode": {
    "name": "ipython",
    "version": 3
   },
   "file_extension": ".py",
   "mimetype": "text/x-python",
   "name": "python",
   "nbconvert_exporter": "python",
   "pygments_lexer": "ipython3",
   "version": "3.6.7"
  }
 },
 "nbformat": 4,
 "nbformat_minor": 2
}
